{
 "cells": [
  {
   "cell_type": "markdown",
   "id": "d109b696",
   "metadata": {},
   "source": [
    "### The proportion of milk and water in 3 samples is 2 : 1, 3 : 2 and 5 : 3. A mixture comprising equal quantities of all 3 samples is made. The proportion of milk and water in the mixture is"
   ]
  },
  {
   "cell_type": "markdown",
   "id": "7dc91a11",
   "metadata": {},
   "source": [
    "Proportion of milk in 3 samples is 2/3, 3/5, 5/8.\n",
    "\n",
    "Proportion of water in 3 samples is 1/3, 2/5, 3/8.\n",
    "\n",
    "Since equal quantities are taken,\n",
    "\n",
    "Total proportion of milk is 2/3 + 3/5 + 5/8 = 227/120\n",
    "\n",
    "Total proportion of water is 1/3 + 2/5 + 3/8 = 133/120\n",
    "\n",
    "Proportion of milk and water in the solution is  = 227:133"
   ]
  },
  {
   "cell_type": "markdown",
   "id": "60f1c39b",
   "metadata": {},
   "source": []
  },
  {
   "cell_type": "markdown",
   "id": "ca525025",
   "metadata": {},
   "source": []
  },
  {
   "cell_type": "markdown",
   "id": "072cc47f",
   "metadata": {},
   "source": []
  },
  {
   "cell_type": "code",
   "execution_count": null,
   "id": "9a7d0410",
   "metadata": {},
   "outputs": [],
   "source": []
  },
  {
   "cell_type": "code",
   "execution_count": null,
   "id": "ab281227",
   "metadata": {},
   "outputs": [],
   "source": []
  }
 ],
 "metadata": {
  "kernelspec": {
   "display_name": "Python 3",
   "language": "python",
   "name": "python3"
  },
  "language_info": {
   "codemirror_mode": {
    "name": "ipython",
    "version": 3
   },
   "file_extension": ".py",
   "mimetype": "text/x-python",
   "name": "python",
   "nbconvert_exporter": "python",
   "pygments_lexer": "ipython3",
   "version": "3.8.8"
  }
 },
 "nbformat": 4,
 "nbformat_minor": 5
}
